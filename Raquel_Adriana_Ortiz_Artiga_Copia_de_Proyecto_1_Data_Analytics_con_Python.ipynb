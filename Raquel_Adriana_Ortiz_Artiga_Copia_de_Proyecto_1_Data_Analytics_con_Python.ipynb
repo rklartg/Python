{
  "nbformat": 4,
  "nbformat_minor": 0,
  "metadata": {
    "colab": {
      "provenance": [],
      "include_colab_link": true
    },
    "kernelspec": {
      "name": "python3",
      "display_name": "Python 3"
    },
    "language_info": {
      "name": "python"
    }
  },
  "cells": [
    {
      "cell_type": "markdown",
      "metadata": {
        "id": "view-in-github",
        "colab_type": "text"
      },
      "source": [
        "<a href=\"https://colab.research.google.com/github/rklartg/Python/blob/main/Raquel_Adriana_Ortiz_Artiga_Copia_de_Proyecto_1_Data_Analytics_con_Python.ipynb\" target=\"_parent\"><img src=\"https://colab.research.google.com/assets/colab-badge.svg\" alt=\"Open In Colab\"/></a>"
      ]
    },
    {
      "cell_type": "markdown",
      "source": [
        "# Proyecto 1 - Proceso de generación de valor por extración de datos\n"
      ],
      "metadata": {
        "id": "pOhibryEonSI"
      }
    },
    {
      "cell_type": "markdown",
      "source": [
        "Este proyecto esta diseñado para que usted pueda:\n",
        "\n",
        "1.   Poner en práctica los conocimientos específicos del leguaje Python y las bibliotecas de Pandas, Matplotlib con Seaborn y numpy\n",
        "2.   Generar una plantilla reutilizable de un proceso de limpieza, consolidación y carga de datos\n",
        "3.   Aplicar los conocimientos analizando una base de datos del mundo real.\n",
        "\n",
        "Utilizaremos el dataset superstore que puede encontar en la carpeta de datasets de Google Drive. Este es la información de ventas y ordenes de cuatro años de una tienda en línea y le permitirá hacer análisis de ventas, categorías etc.\n",
        "\n",
        "Mantenga en mente que algunos errores en carga y limpieza de datos pueden surgir. Su tarea es identificarlos y sobreponerse a ellos.\n",
        "\n"
      ],
      "metadata": {
        "id": "oXPs8b_fou_z"
      }
    },
    {
      "cell_type": "code",
      "source": [
        "import numpy as np\n",
        "import pandas as pd\n",
        "import matplotlib.pyplot as plt\n",
        "import seaborn as sns \n",
        "from google.colab import drive"
      ],
      "metadata": {
        "id": "zltk5pKsouYA"
      },
      "execution_count": null,
      "outputs": []
    },
    {
      "cell_type": "code",
      "source": [
        "import os "
      ],
      "metadata": {
        "id": "xsgOSnoYK8BM"
      },
      "execution_count": null,
      "outputs": []
    },
    {
      "cell_type": "code",
      "source": [
        "drive.mount('/content/drive')"
      ],
      "metadata": {
        "colab": {
          "base_uri": "https://localhost:8080/"
        },
        "id": "dLqiA9ZuF3KC",
        "outputId": "db01ff34-6a21-4620-d11d-11141ed2418e"
      },
      "execution_count": null,
      "outputs": [
        {
          "output_type": "stream",
          "name": "stdout",
          "text": [
            "Drive already mounted at /content/drive; to attempt to forcibly remount, call drive.mount(\"/content/drive\", force_remount=True).\n"
          ]
        }
      ]
    },
    {
      "cell_type": "markdown",
      "source": [
        "# Importar Datos e Identificar variables a limpiar"
      ],
      "metadata": {
        "id": "Mjz4Rx2pv2vd"
      }
    },
    {
      "cell_type": "code",
      "execution_count": null,
      "metadata": {
        "id": "XqtluUm1vxg_"
      },
      "outputs": [],
      "source": [
        "path = r'/content/drive/MyDrive/superstore'\n",
        "files = os.listdir(path)\n",
        "SSTORE = pd.DataFrame()\n",
        "\n",
        "for file in files:\n",
        "  df_temp = pd.read_csv(path + \"/\"+ file, encoding= 'unicode_escape')\n",
        "  df_temp['File_name'] = file\n",
        "\n",
        "  AllFile_STORE = pd.concat([SSTORE,df_temp], axis=0, ignore_index=True)"
      ]
    },
    {
      "cell_type": "code",
      "source": [
        "AllFile_STORE.dtypes"
      ],
      "metadata": {
        "colab": {
          "base_uri": "https://localhost:8080/"
        },
        "id": "z-yn9L8mLN3g",
        "outputId": "5f15b0d0-a1b0-4a51-a162-e40d5b3c1b9d"
      },
      "execution_count": null,
      "outputs": [
        {
          "output_type": "execute_result",
          "data": {
            "text/plain": [
              "Row ID              int64\n",
              "Order ID           object\n",
              "Order Date         object\n",
              "Ship Date          object\n",
              "Ship Mode          object\n",
              "Customer ID        object\n",
              "Customer Name      object\n",
              "Segment            object\n",
              "City               object\n",
              "State              object\n",
              "Country            object\n",
              "Postal Code       float64\n",
              "Market             object\n",
              "Region             object\n",
              "Product ID         object\n",
              "Category           object\n",
              "Sub-Category       object\n",
              "Product Name       object\n",
              "Sales             float64\n",
              "Quantity            int64\n",
              "Discount          float64\n",
              "Profit            float64\n",
              "Shipping Cost     float64\n",
              "Order Priority     object\n",
              "File_name          object\n",
              "dtype: object"
            ]
          },
          "metadata": {},
          "execution_count": 37
        }
      ]
    },
    {
      "cell_type": "code",
      "source": [
        "AllFile_STORE.columns"
      ],
      "metadata": {
        "colab": {
          "base_uri": "https://localhost:8080/"
        },
        "id": "fb6o6jQDWlUe",
        "outputId": "2863b0ad-cdd1-4fd4-c6d7-27a6ae18f08c"
      },
      "execution_count": null,
      "outputs": [
        {
          "output_type": "execute_result",
          "data": {
            "text/plain": [
              "Index(['Row ID', 'Order ID', 'Order Date', 'Ship Date', 'Ship Mode',\n",
              "       'Customer ID', 'Customer Name', 'Segment', 'City', 'State', 'Country',\n",
              "       'Postal Code', 'Market', 'Region', 'Product ID', 'Category',\n",
              "       'Sub-Category', 'Product Name', 'Sales', 'Quantity', 'Discount',\n",
              "       'Profit', 'Shipping Cost', 'Order Priority', 'File_name'],\n",
              "      dtype='object')"
            ]
          },
          "metadata": {},
          "execution_count": 38
        }
      ]
    },
    {
      "cell_type": "markdown",
      "source": [
        "# Limpieza de Datos"
      ],
      "metadata": {
        "id": "6Eys7fU3xsKQ"
      }
    },
    {
      "cell_type": "code",
      "source": [
        "AllFile_STORE.isna().sum()"
      ],
      "metadata": {
        "id": "DAJvKLerxwbC",
        "colab": {
          "base_uri": "https://localhost:8080/"
        },
        "outputId": "dcf0108e-fba4-4d3d-841c-0bf2707b5659"
      },
      "execution_count": null,
      "outputs": [
        {
          "output_type": "execute_result",
          "data": {
            "text/plain": [
              "Row ID               0\n",
              "Order ID             0\n",
              "Order Date           0\n",
              "Ship Date            0\n",
              "Ship Mode            0\n",
              "Customer ID          0\n",
              "Customer Name        0\n",
              "Segment              0\n",
              "City                 0\n",
              "State                0\n",
              "Country              0\n",
              "Postal Code       8355\n",
              "Market               0\n",
              "Region               0\n",
              "Product ID           0\n",
              "Category             0\n",
              "Sub-Category         0\n",
              "Product Name         0\n",
              "Sales                0\n",
              "Quantity             0\n",
              "Discount             0\n",
              "Profit               0\n",
              "Shipping Cost        0\n",
              "Order Priority       0\n",
              "File_name            0\n",
              "dtype: int64"
            ]
          },
          "metadata": {},
          "execution_count": 39
        }
      ]
    },
    {
      "cell_type": "code",
      "source": [
        "AllFile_STORE.shape"
      ],
      "metadata": {
        "colab": {
          "base_uri": "https://localhost:8080/"
        },
        "id": "TafBdMuZVohO",
        "outputId": "257b9d91-f30c-44c4-dd90-f5bd630dcdd7"
      },
      "execution_count": null,
      "outputs": [
        {
          "output_type": "execute_result",
          "data": {
            "text/plain": [
              "(10260, 25)"
            ]
          },
          "metadata": {},
          "execution_count": 40
        }
      ]
    },
    {
      "cell_type": "code",
      "source": [
        "#Para eliminar duplicados será suficiente hacer:\n",
        "SSTORE_1 = AllFile_STORE.drop_duplicates()\n",
        "\n",
        "SSTORE_1.shape"
      ],
      "metadata": {
        "colab": {
          "base_uri": "https://localhost:8080/"
        },
        "id": "g6tdHqLFV1yt",
        "outputId": "8581012b-30e2-482c-8f3e-7bbb06f89331"
      },
      "execution_count": null,
      "outputs": [
        {
          "output_type": "execute_result",
          "data": {
            "text/plain": [
              "(10260, 25)"
            ]
          },
          "metadata": {},
          "execution_count": 41
        }
      ]
    },
    {
      "cell_type": "code",
      "source": [
        "AllFile_STORE['Postal Code'].unique()"
      ],
      "metadata": {
        "colab": {
          "base_uri": "https://localhost:8080/"
        },
        "id": "El2u59eewPRO",
        "outputId": "a505322c-885d-4403-a3b4-5a1c5a502751"
      },
      "execution_count": null,
      "outputs": [
        {
          "output_type": "execute_result",
          "data": {
            "text/plain": [
              "array([   nan, 90032., 35601., 90004.,  4240., 45503., 30076., 60623.,\n",
              "       19805., 77070., 91104., 11561., 60610., 90036., 31907., 10035.,\n",
              "       43302., 98031., 33710., 90049., 77095., 31204., 90008., 45014.,\n",
              "       19143., 27405., 91767., 92399., 47374., 30062., 75007., 10024.,\n",
              "       33801., 10011., 19134., 50315., 92630., 98103., 21044., 32839.,\n",
              "       79762., 85281., 28205., 43229., 92804., 47201., 30318., 28540.,\n",
              "       19120., 22153., 80004., 80027., 13501., 48066.,  2895., 21215.,\n",
              "       98026., 23223.,  8701., 10550., 40214., 87105., 26003., 75081.,\n",
              "       61107., 94110., 75217., 28110., 77041., 92404., 59601., 19711.,\n",
              "       33178., 80013., 37087., 92024., 44134., 46350., 85204., 85301.,\n",
              "       43055., 78745., 17602., 98632., 32303., 98115., 95051., 85023.,\n",
              "       42420., 92592., 92503.,  2151., 44052., 49201., 10009., 94109.,\n",
              "       71111., 29464., 28027., 65807., 14609., 44312., 20735., 39212.,\n",
              "       98105., 55407., 60653., 23320., 84321., 32216., 92646.,  3820.,\n",
              "       95661., 85254., 78207., 22980., 80219.,  6824., 95336., 60505.,\n",
              "       97477., 92345., 93010., 19013., 19140., 37064., 48234., 67212.,\n",
              "       66212., 70065., 75061., 53214., 38109., 94122., 92037., 33614.,\n",
              "       78415., 84604., 29406., 90045., 68104., 28806.,  2149., 76106.,\n",
              "        3301., 78041., 95823., 70506., 61032., 77506., 48640., 87124.,\n",
              "       19901., 27360., 73120., 98661., 98002., 60035., 14215., 75220.,\n",
              "       93030., 10701., 94568., 33458., 32725., 97206., 92627., 92105.,\n",
              "       90503., 73071.,  7090., 37604., 53142., 84043., 78550., 94061.,\n",
              "       54302., 22304., 28314., 43615.,  7960., 85364., 45231., 92704.,\n",
              "       44105., 39503., 79907., 85234., 33433., 57103., 85705., 77036.,\n",
              "       35810., 13021., 92683., 33021., 94601., 37211., 36608., 33065.,\n",
              "       46203., 29203., 27604.,  7050., 33012., 79109., 60462., 48858.,\n",
              "       54915., 22801., 43123., 13601., 27511.,  1841., 75023., 60076.,\n",
              "       72701.,  2169.,  7109., 36830., 77803., 28403., 60201., 28052.,\n",
              "       76051., 89015., 33180., 22204., 33311., 46544., 11550., 75051.,\n",
              "       55369., 62301., 23434., 55113.,  7060., 23602., 83301., 84106.,\n",
              "        6708., 91360., 84057., 66502., 47401., 62521., 83704., 53209.,\n",
              "       27217., 33023., 77705., 48227., 77340., 48205., 44221., 90301.,\n",
              "       60302., 60068., 38134., 55044., 44107., 35244., 95123., 54703.,\n",
              "        6457., 37421., 88220., 43017., 41042., 27514., 34952., 93309.,\n",
              "       60098., 72209., 85345.,  2740., 95616., 38401., 91911., 92677.,\n",
              "       40475., 56560., 75104., 43402., 93727., 92025., 44035., 61701.,\n",
              "       92307., 27534., 94086., 92054., 74133., 90805., 45373.,  8861.,\n",
              "       91505.,  2148., 93534., 37918., 78501., 93454., 71203., 47150.,\n",
              "       90712., 32712., 37167., 80501., 12180., 98502., 80022., 10801.,\n",
              "       13440., 94513., 98198.,  4401.,  1752., 98052., 36116., 71854.,\n",
              "       65203., 95351.,  2886., 60016., 53132., 75056., 78521., 30605.,\n",
              "       60540., 21740., 24153., 97123., 76017., 77590., 79424., 33161.,\n",
              "       75701., 60126., 23464., 30328., 60423.])"
            ]
          },
          "metadata": {},
          "execution_count": 42
        }
      ]
    },
    {
      "cell_type": "code",
      "source": [
        "AllFile_STORE['Category'].unique()"
      ],
      "metadata": {
        "colab": {
          "base_uri": "https://localhost:8080/"
        },
        "id": "CtZmS8QoAZZO",
        "outputId": "521f9649-8944-4c66-f2c3-3e4948795770"
      },
      "execution_count": null,
      "outputs": [
        {
          "output_type": "execute_result",
          "data": {
            "text/plain": [
              "array(['Technology', 'Furniture', 'Office Supplies'], dtype=object)"
            ]
          },
          "metadata": {},
          "execution_count": 43
        }
      ]
    },
    {
      "cell_type": "code",
      "source": [
        "AllFile_STORE['Sub-Category'].unique()"
      ],
      "metadata": {
        "colab": {
          "base_uri": "https://localhost:8080/"
        },
        "id": "2abtkvNKAhSZ",
        "outputId": "f6d944bd-85bd-4829-d014-d3149f938a15"
      },
      "execution_count": null,
      "outputs": [
        {
          "output_type": "execute_result",
          "data": {
            "text/plain": [
              "array(['Copiers', 'Bookcases', 'Chairs', 'Storage', 'Fasteners',\n",
              "       'Binders', 'Paper', 'Accessories', 'Art', 'Envelopes',\n",
              "       'Furnishings', 'Labels', 'Appliances', 'Phones', 'Supplies',\n",
              "       'Machines', 'Tables'], dtype=object)"
            ]
          },
          "metadata": {},
          "execution_count": 44
        }
      ]
    },
    {
      "cell_type": "code",
      "source": [
        "AllFile_STORE.drop(['Row ID'], axis=1, inplace=True)"
      ],
      "metadata": {
        "id": "SsJ8rkW97DE8"
      },
      "execution_count": null,
      "outputs": []
    },
    {
      "cell_type": "code",
      "source": [
        "AllFile_STORE.drop(['Postal Code'], axis=1, inplace=True)"
      ],
      "metadata": {
        "id": "hqSC3dPq8sFP"
      },
      "execution_count": null,
      "outputs": []
    },
    {
      "cell_type": "code",
      "source": [
        "AllFile_STORE.drop(['File_name'], axis=1, inplace=True)"
      ],
      "metadata": {
        "id": "lK05s8rx_4YN"
      },
      "execution_count": null,
      "outputs": []
    },
    {
      "cell_type": "markdown",
      "source": [
        "# Creación de nueva base de datos en Google Drive"
      ],
      "metadata": {
        "id": "VLsfTaw4xw3r"
      }
    },
    {
      "cell_type": "code",
      "source": [
        "from google.colab import files"
      ],
      "metadata": {
        "id": "VzxQKg-lLRo_"
      },
      "execution_count": null,
      "outputs": []
    },
    {
      "cell_type": "code",
      "source": [
        "AllFile_STORE.to_csv('STORE_FINAL.csv', index=False)\n",
        "files.download('STORE_FINAL.csv')\n"
      ],
      "metadata": {
        "id": "vh2pNzi12kX2",
        "colab": {
          "base_uri": "https://localhost:8080/",
          "height": 17
        },
        "outputId": "7d5ba2e9-5479-4149-a10a-204278605aa0"
      },
      "execution_count": null,
      "outputs": [
        {
          "output_type": "display_data",
          "data": {
            "text/plain": [
              "<IPython.core.display.Javascript object>"
            ],
            "application/javascript": [
              "\n",
              "    async function download(id, filename, size) {\n",
              "      if (!google.colab.kernel.accessAllowed) {\n",
              "        return;\n",
              "      }\n",
              "      const div = document.createElement('div');\n",
              "      const label = document.createElement('label');\n",
              "      label.textContent = `Downloading \"${filename}\": `;\n",
              "      div.appendChild(label);\n",
              "      const progress = document.createElement('progress');\n",
              "      progress.max = size;\n",
              "      div.appendChild(progress);\n",
              "      document.body.appendChild(div);\n",
              "\n",
              "      const buffers = [];\n",
              "      let downloaded = 0;\n",
              "\n",
              "      const channel = await google.colab.kernel.comms.open(id);\n",
              "      // Send a message to notify the kernel that we're ready.\n",
              "      channel.send({})\n",
              "\n",
              "      for await (const message of channel.messages) {\n",
              "        // Send a message to notify the kernel that we're ready.\n",
              "        channel.send({})\n",
              "        if (message.buffers) {\n",
              "          for (const buffer of message.buffers) {\n",
              "            buffers.push(buffer);\n",
              "            downloaded += buffer.byteLength;\n",
              "            progress.value = downloaded;\n",
              "          }\n",
              "        }\n",
              "      }\n",
              "      const blob = new Blob(buffers, {type: 'application/binary'});\n",
              "      const a = document.createElement('a');\n",
              "      a.href = window.URL.createObjectURL(blob);\n",
              "      a.download = filename;\n",
              "      div.appendChild(a);\n",
              "      a.click();\n",
              "      div.remove();\n",
              "    }\n",
              "  "
            ]
          },
          "metadata": {}
        },
        {
          "output_type": "display_data",
          "data": {
            "text/plain": [
              "<IPython.core.display.Javascript object>"
            ],
            "application/javascript": [
              "download(\"download_a00cd380-107e-4bf3-aa8e-c2688d16b0ed\", \"STORE_FINAL.csv\", 2344089)"
            ]
          },
          "metadata": {}
        }
      ]
    },
    {
      "cell_type": "markdown",
      "source": [
        "# Explorando datos\n",
        "\n",
        "Conectar a la nueva base de datos"
      ],
      "metadata": {
        "id": "T7O46GSZ2kou"
      }
    },
    {
      "cell_type": "code",
      "source": [
        "SSTORE = pd.read_csv('/content/STORE_FINAL.csv')"
      ],
      "metadata": {
        "id": "MPj0W99ar1ps"
      },
      "execution_count": null,
      "outputs": []
    },
    {
      "cell_type": "code",
      "source": [
        "SSTORE.info()"
      ],
      "metadata": {
        "colab": {
          "base_uri": "https://localhost:8080/"
        },
        "id": "4AazHXG0PZDp",
        "outputId": "b4950ed8-6a84-4a60-c1e7-f739293cb185"
      },
      "execution_count": null,
      "outputs": [
        {
          "output_type": "stream",
          "name": "stdout",
          "text": [
            "<class 'pandas.core.frame.DataFrame'>\n",
            "RangeIndex: 10260 entries, 0 to 10259\n",
            "Data columns (total 22 columns):\n",
            " #   Column          Non-Null Count  Dtype  \n",
            "---  ------          --------------  -----  \n",
            " 0   Order ID        10260 non-null  object \n",
            " 1   Order Date      10260 non-null  object \n",
            " 2   Ship Date       10260 non-null  object \n",
            " 3   Ship Mode       10260 non-null  object \n",
            " 4   Customer ID     10260 non-null  object \n",
            " 5   Customer Name   10260 non-null  object \n",
            " 6   Segment         10260 non-null  object \n",
            " 7   City            10260 non-null  object \n",
            " 8   State           10260 non-null  object \n",
            " 9   Country         10260 non-null  object \n",
            " 10  Market          10260 non-null  object \n",
            " 11  Region          10260 non-null  object \n",
            " 12  Product ID      10260 non-null  object \n",
            " 13  Category        10260 non-null  object \n",
            " 14  Sub-Category    10260 non-null  object \n",
            " 15  Product Name    10260 non-null  object \n",
            " 16  Sales           10260 non-null  float64\n",
            " 17  Quantity        10260 non-null  int64  \n",
            " 18  Discount        10260 non-null  float64\n",
            " 19  Profit          10260 non-null  float64\n",
            " 20  Shipping Cost   10260 non-null  float64\n",
            " 21  Order Priority  10260 non-null  object \n",
            "dtypes: float64(4), int64(1), object(17)\n",
            "memory usage: 1.7+ MB\n"
          ]
        }
      ]
    },
    {
      "cell_type": "code",
      "source": [
        "SSTORE.describe()"
      ],
      "metadata": {
        "colab": {
          "base_uri": "https://localhost:8080/",
          "height": 300
        },
        "id": "v1zfKj4bPQhN",
        "outputId": "0228b28c-6f9c-4660-cc4b-577ed18af42b"
      },
      "execution_count": null,
      "outputs": [
        {
          "output_type": "execute_result",
          "data": {
            "text/plain": [
              "              Sales      Quantity      Discount        Profit  Shipping Cost\n",
              "count  10260.000000  10260.000000  10260.000000  10260.000000   10260.000000\n",
              "mean     257.484133      3.514815      0.143466     29.231994      27.821439\n",
              "std      547.669330      2.293648      0.213467    180.146915      61.540804\n",
              "min        0.990000      1.000000      0.000000  -3399.980000       0.000000\n",
              "25%       31.786000      2.000000      0.000000     -0.028650       2.690000\n",
              "50%       87.035000      3.000000      0.000000      8.999700       7.935000\n",
              "75%      255.962000      5.000000      0.200000     36.720000      25.485000\n",
              "max    22638.480000     14.000000      0.850000   5039.985600     915.490000"
            ],
            "text/html": [
              "\n",
              "  <div id=\"df-356772e4-8a87-427e-ae7f-2c5b8b50d26c\">\n",
              "    <div class=\"colab-df-container\">\n",
              "      <div>\n",
              "<style scoped>\n",
              "    .dataframe tbody tr th:only-of-type {\n",
              "        vertical-align: middle;\n",
              "    }\n",
              "\n",
              "    .dataframe tbody tr th {\n",
              "        vertical-align: top;\n",
              "    }\n",
              "\n",
              "    .dataframe thead th {\n",
              "        text-align: right;\n",
              "    }\n",
              "</style>\n",
              "<table border=\"1\" class=\"dataframe\">\n",
              "  <thead>\n",
              "    <tr style=\"text-align: right;\">\n",
              "      <th></th>\n",
              "      <th>Sales</th>\n",
              "      <th>Quantity</th>\n",
              "      <th>Discount</th>\n",
              "      <th>Profit</th>\n",
              "      <th>Shipping Cost</th>\n",
              "    </tr>\n",
              "  </thead>\n",
              "  <tbody>\n",
              "    <tr>\n",
              "      <th>count</th>\n",
              "      <td>10260.000000</td>\n",
              "      <td>10260.000000</td>\n",
              "      <td>10260.000000</td>\n",
              "      <td>10260.000000</td>\n",
              "      <td>10260.000000</td>\n",
              "    </tr>\n",
              "    <tr>\n",
              "      <th>mean</th>\n",
              "      <td>257.484133</td>\n",
              "      <td>3.514815</td>\n",
              "      <td>0.143466</td>\n",
              "      <td>29.231994</td>\n",
              "      <td>27.821439</td>\n",
              "    </tr>\n",
              "    <tr>\n",
              "      <th>std</th>\n",
              "      <td>547.669330</td>\n",
              "      <td>2.293648</td>\n",
              "      <td>0.213467</td>\n",
              "      <td>180.146915</td>\n",
              "      <td>61.540804</td>\n",
              "    </tr>\n",
              "    <tr>\n",
              "      <th>min</th>\n",
              "      <td>0.990000</td>\n",
              "      <td>1.000000</td>\n",
              "      <td>0.000000</td>\n",
              "      <td>-3399.980000</td>\n",
              "      <td>0.000000</td>\n",
              "    </tr>\n",
              "    <tr>\n",
              "      <th>25%</th>\n",
              "      <td>31.786000</td>\n",
              "      <td>2.000000</td>\n",
              "      <td>0.000000</td>\n",
              "      <td>-0.028650</td>\n",
              "      <td>2.690000</td>\n",
              "    </tr>\n",
              "    <tr>\n",
              "      <th>50%</th>\n",
              "      <td>87.035000</td>\n",
              "      <td>3.000000</td>\n",
              "      <td>0.000000</td>\n",
              "      <td>8.999700</td>\n",
              "      <td>7.935000</td>\n",
              "    </tr>\n",
              "    <tr>\n",
              "      <th>75%</th>\n",
              "      <td>255.962000</td>\n",
              "      <td>5.000000</td>\n",
              "      <td>0.200000</td>\n",
              "      <td>36.720000</td>\n",
              "      <td>25.485000</td>\n",
              "    </tr>\n",
              "    <tr>\n",
              "      <th>max</th>\n",
              "      <td>22638.480000</td>\n",
              "      <td>14.000000</td>\n",
              "      <td>0.850000</td>\n",
              "      <td>5039.985600</td>\n",
              "      <td>915.490000</td>\n",
              "    </tr>\n",
              "  </tbody>\n",
              "</table>\n",
              "</div>\n",
              "      <button class=\"colab-df-convert\" onclick=\"convertToInteractive('df-356772e4-8a87-427e-ae7f-2c5b8b50d26c')\"\n",
              "              title=\"Convert this dataframe to an interactive table.\"\n",
              "              style=\"display:none;\">\n",
              "        \n",
              "  <svg xmlns=\"http://www.w3.org/2000/svg\" height=\"24px\"viewBox=\"0 0 24 24\"\n",
              "       width=\"24px\">\n",
              "    <path d=\"M0 0h24v24H0V0z\" fill=\"none\"/>\n",
              "    <path d=\"M18.56 5.44l.94 2.06.94-2.06 2.06-.94-2.06-.94-.94-2.06-.94 2.06-2.06.94zm-11 1L8.5 8.5l.94-2.06 2.06-.94-2.06-.94L8.5 2.5l-.94 2.06-2.06.94zm10 10l.94 2.06.94-2.06 2.06-.94-2.06-.94-.94-2.06-.94 2.06-2.06.94z\"/><path d=\"M17.41 7.96l-1.37-1.37c-.4-.4-.92-.59-1.43-.59-.52 0-1.04.2-1.43.59L10.3 9.45l-7.72 7.72c-.78.78-.78 2.05 0 2.83L4 21.41c.39.39.9.59 1.41.59.51 0 1.02-.2 1.41-.59l7.78-7.78 2.81-2.81c.8-.78.8-2.07 0-2.86zM5.41 20L4 18.59l7.72-7.72 1.47 1.35L5.41 20z\"/>\n",
              "  </svg>\n",
              "      </button>\n",
              "      \n",
              "  <style>\n",
              "    .colab-df-container {\n",
              "      display:flex;\n",
              "      flex-wrap:wrap;\n",
              "      gap: 12px;\n",
              "    }\n",
              "\n",
              "    .colab-df-convert {\n",
              "      background-color: #E8F0FE;\n",
              "      border: none;\n",
              "      border-radius: 50%;\n",
              "      cursor: pointer;\n",
              "      display: none;\n",
              "      fill: #1967D2;\n",
              "      height: 32px;\n",
              "      padding: 0 0 0 0;\n",
              "      width: 32px;\n",
              "    }\n",
              "\n",
              "    .colab-df-convert:hover {\n",
              "      background-color: #E2EBFA;\n",
              "      box-shadow: 0px 1px 2px rgba(60, 64, 67, 0.3), 0px 1px 3px 1px rgba(60, 64, 67, 0.15);\n",
              "      fill: #174EA6;\n",
              "    }\n",
              "\n",
              "    [theme=dark] .colab-df-convert {\n",
              "      background-color: #3B4455;\n",
              "      fill: #D2E3FC;\n",
              "    }\n",
              "\n",
              "    [theme=dark] .colab-df-convert:hover {\n",
              "      background-color: #434B5C;\n",
              "      box-shadow: 0px 1px 3px 1px rgba(0, 0, 0, 0.15);\n",
              "      filter: drop-shadow(0px 1px 2px rgba(0, 0, 0, 0.3));\n",
              "      fill: #FFFFFF;\n",
              "    }\n",
              "  </style>\n",
              "\n",
              "      <script>\n",
              "        const buttonEl =\n",
              "          document.querySelector('#df-356772e4-8a87-427e-ae7f-2c5b8b50d26c button.colab-df-convert');\n",
              "        buttonEl.style.display =\n",
              "          google.colab.kernel.accessAllowed ? 'block' : 'none';\n",
              "\n",
              "        async function convertToInteractive(key) {\n",
              "          const element = document.querySelector('#df-356772e4-8a87-427e-ae7f-2c5b8b50d26c');\n",
              "          const dataTable =\n",
              "            await google.colab.kernel.invokeFunction('convertToInteractive',\n",
              "                                                     [key], {});\n",
              "          if (!dataTable) return;\n",
              "\n",
              "          const docLinkHtml = 'Like what you see? Visit the ' +\n",
              "            '<a target=\"_blank\" href=https://colab.research.google.com/notebooks/data_table.ipynb>data table notebook</a>'\n",
              "            + ' to learn more about interactive tables.';\n",
              "          element.innerHTML = '';\n",
              "          dataTable['output_type'] = 'display_data';\n",
              "          await google.colab.output.renderOutput(dataTable, element);\n",
              "          const docLink = document.createElement('div');\n",
              "          docLink.innerHTML = docLinkHtml;\n",
              "          element.appendChild(docLink);\n",
              "        }\n",
              "      </script>\n",
              "    </div>\n",
              "  </div>\n",
              "  "
            ]
          },
          "metadata": {},
          "execution_count": 52
        }
      ]
    },
    {
      "cell_type": "code",
      "source": [
        "SSTORE.head()"
      ],
      "metadata": {
        "colab": {
          "base_uri": "https://localhost:8080/",
          "height": 629
        },
        "id": "QKN2oZo4PE3Z",
        "outputId": "463505a4-efde-4150-a103-396ed1161d04"
      },
      "execution_count": null,
      "outputs": [
        {
          "output_type": "execute_result",
          "data": {
            "text/plain": [
              "          Order ID  Order Date   Ship Date       Ship Mode Customer ID  \\\n",
              "0   MX-2011-157049  13-06-2011  13-06-2011        Same Day    BD-11560   \n",
              "1  ES-2011-1276768  13-06-2011  18-06-2011  Standard Class    JO-15145   \n",
              "2   US-2011-102288  13-06-2011  17-06-2011  Standard Class    KT-16465   \n",
              "3  ES-2011-1276768  13-06-2011  18-06-2011  Standard Class    JO-15145   \n",
              "4    IN-2011-51390  13-06-2011  17-06-2011  Standard Class    RB-19705   \n",
              "\n",
              "    Customer Name      Segment              City             State    Country  \\\n",
              "0  Brendan Dodson  Home Office        Cuajimalpa  Distrito Federal     Mexico   \n",
              "1   Jack O'Briant    Corporate  Thonon-les-Bains       Rhône-Alpes     France   \n",
              "2   Kean Takahito     Consumer  Presidente Dutra          Maranhão     Brazil   \n",
              "3   Jack O'Briant    Corporate  Thonon-les-Bains       Rhône-Alpes     France   \n",
              "4    Roger Barcio  Home Office         Palembang  Sumatera Selatan  Indonesia   \n",
              "\n",
              "   ...       Product ID    Category Sub-Category  \\\n",
              "0  ...  TEC-CO-10003964  Technology      Copiers   \n",
              "1  ...  FUR-BO-10000847   Furniture    Bookcases   \n",
              "2  ...  FUR-CH-10004801   Furniture       Chairs   \n",
              "3  ...  FUR-BO-10000895   Furniture    Bookcases   \n",
              "4  ...  FUR-CH-10000660   Furniture       Chairs   \n",
              "\n",
              "                                     Product Name      Sales Quantity  \\\n",
              "0                   Canon Fax Machine, High-Speed  631.91364        3   \n",
              "1                Dania Stackable Bookrack, Mobile  437.72400        4   \n",
              "2              Office Star Bag Chairs, Set of Two  215.37600       14   \n",
              "3                   Sauder Corner Shelving, Metal  264.16800        2   \n",
              "4  Novimex Executive Leather Armchair, Adjustable  332.52960        1   \n",
              "\n",
              "   Discount     Profit  Shipping Cost  Order Priority  \n",
              "0     0.002   87.35364          78.28        Critical  \n",
              "1     0.100  165.32400          68.34            High  \n",
              "2     0.600 -231.78400          39.85            High  \n",
              "3     0.100   55.72800          30.14            High  \n",
              "4     0.270   18.21960          30.14          Medium  \n",
              "\n",
              "[5 rows x 22 columns]"
            ],
            "text/html": [
              "\n",
              "  <div id=\"df-dfc06778-cbae-4446-9891-068fa0e3dffc\">\n",
              "    <div class=\"colab-df-container\">\n",
              "      <div>\n",
              "<style scoped>\n",
              "    .dataframe tbody tr th:only-of-type {\n",
              "        vertical-align: middle;\n",
              "    }\n",
              "\n",
              "    .dataframe tbody tr th {\n",
              "        vertical-align: top;\n",
              "    }\n",
              "\n",
              "    .dataframe thead th {\n",
              "        text-align: right;\n",
              "    }\n",
              "</style>\n",
              "<table border=\"1\" class=\"dataframe\">\n",
              "  <thead>\n",
              "    <tr style=\"text-align: right;\">\n",
              "      <th></th>\n",
              "      <th>Order ID</th>\n",
              "      <th>Order Date</th>\n",
              "      <th>Ship Date</th>\n",
              "      <th>Ship Mode</th>\n",
              "      <th>Customer ID</th>\n",
              "      <th>Customer Name</th>\n",
              "      <th>Segment</th>\n",
              "      <th>City</th>\n",
              "      <th>State</th>\n",
              "      <th>Country</th>\n",
              "      <th>...</th>\n",
              "      <th>Product ID</th>\n",
              "      <th>Category</th>\n",
              "      <th>Sub-Category</th>\n",
              "      <th>Product Name</th>\n",
              "      <th>Sales</th>\n",
              "      <th>Quantity</th>\n",
              "      <th>Discount</th>\n",
              "      <th>Profit</th>\n",
              "      <th>Shipping Cost</th>\n",
              "      <th>Order Priority</th>\n",
              "    </tr>\n",
              "  </thead>\n",
              "  <tbody>\n",
              "    <tr>\n",
              "      <th>0</th>\n",
              "      <td>MX-2011-157049</td>\n",
              "      <td>13-06-2011</td>\n",
              "      <td>13-06-2011</td>\n",
              "      <td>Same Day</td>\n",
              "      <td>BD-11560</td>\n",
              "      <td>Brendan Dodson</td>\n",
              "      <td>Home Office</td>\n",
              "      <td>Cuajimalpa</td>\n",
              "      <td>Distrito Federal</td>\n",
              "      <td>Mexico</td>\n",
              "      <td>...</td>\n",
              "      <td>TEC-CO-10003964</td>\n",
              "      <td>Technology</td>\n",
              "      <td>Copiers</td>\n",
              "      <td>Canon Fax Machine, High-Speed</td>\n",
              "      <td>631.91364</td>\n",
              "      <td>3</td>\n",
              "      <td>0.002</td>\n",
              "      <td>87.35364</td>\n",
              "      <td>78.28</td>\n",
              "      <td>Critical</td>\n",
              "    </tr>\n",
              "    <tr>\n",
              "      <th>1</th>\n",
              "      <td>ES-2011-1276768</td>\n",
              "      <td>13-06-2011</td>\n",
              "      <td>18-06-2011</td>\n",
              "      <td>Standard Class</td>\n",
              "      <td>JO-15145</td>\n",
              "      <td>Jack O'Briant</td>\n",
              "      <td>Corporate</td>\n",
              "      <td>Thonon-les-Bains</td>\n",
              "      <td>Rhône-Alpes</td>\n",
              "      <td>France</td>\n",
              "      <td>...</td>\n",
              "      <td>FUR-BO-10000847</td>\n",
              "      <td>Furniture</td>\n",
              "      <td>Bookcases</td>\n",
              "      <td>Dania Stackable Bookrack, Mobile</td>\n",
              "      <td>437.72400</td>\n",
              "      <td>4</td>\n",
              "      <td>0.100</td>\n",
              "      <td>165.32400</td>\n",
              "      <td>68.34</td>\n",
              "      <td>High</td>\n",
              "    </tr>\n",
              "    <tr>\n",
              "      <th>2</th>\n",
              "      <td>US-2011-102288</td>\n",
              "      <td>13-06-2011</td>\n",
              "      <td>17-06-2011</td>\n",
              "      <td>Standard Class</td>\n",
              "      <td>KT-16465</td>\n",
              "      <td>Kean Takahito</td>\n",
              "      <td>Consumer</td>\n",
              "      <td>Presidente Dutra</td>\n",
              "      <td>Maranhão</td>\n",
              "      <td>Brazil</td>\n",
              "      <td>...</td>\n",
              "      <td>FUR-CH-10004801</td>\n",
              "      <td>Furniture</td>\n",
              "      <td>Chairs</td>\n",
              "      <td>Office Star Bag Chairs, Set of Two</td>\n",
              "      <td>215.37600</td>\n",
              "      <td>14</td>\n",
              "      <td>0.600</td>\n",
              "      <td>-231.78400</td>\n",
              "      <td>39.85</td>\n",
              "      <td>High</td>\n",
              "    </tr>\n",
              "    <tr>\n",
              "      <th>3</th>\n",
              "      <td>ES-2011-1276768</td>\n",
              "      <td>13-06-2011</td>\n",
              "      <td>18-06-2011</td>\n",
              "      <td>Standard Class</td>\n",
              "      <td>JO-15145</td>\n",
              "      <td>Jack O'Briant</td>\n",
              "      <td>Corporate</td>\n",
              "      <td>Thonon-les-Bains</td>\n",
              "      <td>Rhône-Alpes</td>\n",
              "      <td>France</td>\n",
              "      <td>...</td>\n",
              "      <td>FUR-BO-10000895</td>\n",
              "      <td>Furniture</td>\n",
              "      <td>Bookcases</td>\n",
              "      <td>Sauder Corner Shelving, Metal</td>\n",
              "      <td>264.16800</td>\n",
              "      <td>2</td>\n",
              "      <td>0.100</td>\n",
              "      <td>55.72800</td>\n",
              "      <td>30.14</td>\n",
              "      <td>High</td>\n",
              "    </tr>\n",
              "    <tr>\n",
              "      <th>4</th>\n",
              "      <td>IN-2011-51390</td>\n",
              "      <td>13-06-2011</td>\n",
              "      <td>17-06-2011</td>\n",
              "      <td>Standard Class</td>\n",
              "      <td>RB-19705</td>\n",
              "      <td>Roger Barcio</td>\n",
              "      <td>Home Office</td>\n",
              "      <td>Palembang</td>\n",
              "      <td>Sumatera Selatan</td>\n",
              "      <td>Indonesia</td>\n",
              "      <td>...</td>\n",
              "      <td>FUR-CH-10000660</td>\n",
              "      <td>Furniture</td>\n",
              "      <td>Chairs</td>\n",
              "      <td>Novimex Executive Leather Armchair, Adjustable</td>\n",
              "      <td>332.52960</td>\n",
              "      <td>1</td>\n",
              "      <td>0.270</td>\n",
              "      <td>18.21960</td>\n",
              "      <td>30.14</td>\n",
              "      <td>Medium</td>\n",
              "    </tr>\n",
              "  </tbody>\n",
              "</table>\n",
              "<p>5 rows × 22 columns</p>\n",
              "</div>\n",
              "      <button class=\"colab-df-convert\" onclick=\"convertToInteractive('df-dfc06778-cbae-4446-9891-068fa0e3dffc')\"\n",
              "              title=\"Convert this dataframe to an interactive table.\"\n",
              "              style=\"display:none;\">\n",
              "        \n",
              "  <svg xmlns=\"http://www.w3.org/2000/svg\" height=\"24px\"viewBox=\"0 0 24 24\"\n",
              "       width=\"24px\">\n",
              "    <path d=\"M0 0h24v24H0V0z\" fill=\"none\"/>\n",
              "    <path d=\"M18.56 5.44l.94 2.06.94-2.06 2.06-.94-2.06-.94-.94-2.06-.94 2.06-2.06.94zm-11 1L8.5 8.5l.94-2.06 2.06-.94-2.06-.94L8.5 2.5l-.94 2.06-2.06.94zm10 10l.94 2.06.94-2.06 2.06-.94-2.06-.94-.94-2.06-.94 2.06-2.06.94z\"/><path d=\"M17.41 7.96l-1.37-1.37c-.4-.4-.92-.59-1.43-.59-.52 0-1.04.2-1.43.59L10.3 9.45l-7.72 7.72c-.78.78-.78 2.05 0 2.83L4 21.41c.39.39.9.59 1.41.59.51 0 1.02-.2 1.41-.59l7.78-7.78 2.81-2.81c.8-.78.8-2.07 0-2.86zM5.41 20L4 18.59l7.72-7.72 1.47 1.35L5.41 20z\"/>\n",
              "  </svg>\n",
              "      </button>\n",
              "      \n",
              "  <style>\n",
              "    .colab-df-container {\n",
              "      display:flex;\n",
              "      flex-wrap:wrap;\n",
              "      gap: 12px;\n",
              "    }\n",
              "\n",
              "    .colab-df-convert {\n",
              "      background-color: #E8F0FE;\n",
              "      border: none;\n",
              "      border-radius: 50%;\n",
              "      cursor: pointer;\n",
              "      display: none;\n",
              "      fill: #1967D2;\n",
              "      height: 32px;\n",
              "      padding: 0 0 0 0;\n",
              "      width: 32px;\n",
              "    }\n",
              "\n",
              "    .colab-df-convert:hover {\n",
              "      background-color: #E2EBFA;\n",
              "      box-shadow: 0px 1px 2px rgba(60, 64, 67, 0.3), 0px 1px 3px 1px rgba(60, 64, 67, 0.15);\n",
              "      fill: #174EA6;\n",
              "    }\n",
              "\n",
              "    [theme=dark] .colab-df-convert {\n",
              "      background-color: #3B4455;\n",
              "      fill: #D2E3FC;\n",
              "    }\n",
              "\n",
              "    [theme=dark] .colab-df-convert:hover {\n",
              "      background-color: #434B5C;\n",
              "      box-shadow: 0px 1px 3px 1px rgba(0, 0, 0, 0.15);\n",
              "      filter: drop-shadow(0px 1px 2px rgba(0, 0, 0, 0.3));\n",
              "      fill: #FFFFFF;\n",
              "    }\n",
              "  </style>\n",
              "\n",
              "      <script>\n",
              "        const buttonEl =\n",
              "          document.querySelector('#df-dfc06778-cbae-4446-9891-068fa0e3dffc button.colab-df-convert');\n",
              "        buttonEl.style.display =\n",
              "          google.colab.kernel.accessAllowed ? 'block' : 'none';\n",
              "\n",
              "        async function convertToInteractive(key) {\n",
              "          const element = document.querySelector('#df-dfc06778-cbae-4446-9891-068fa0e3dffc');\n",
              "          const dataTable =\n",
              "            await google.colab.kernel.invokeFunction('convertToInteractive',\n",
              "                                                     [key], {});\n",
              "          if (!dataTable) return;\n",
              "\n",
              "          const docLinkHtml = 'Like what you see? Visit the ' +\n",
              "            '<a target=\"_blank\" href=https://colab.research.google.com/notebooks/data_table.ipynb>data table notebook</a>'\n",
              "            + ' to learn more about interactive tables.';\n",
              "          element.innerHTML = '';\n",
              "          dataTable['output_type'] = 'display_data';\n",
              "          await google.colab.output.renderOutput(dataTable, element);\n",
              "          const docLink = document.createElement('div');\n",
              "          docLink.innerHTML = docLinkHtml;\n",
              "          element.appendChild(docLink);\n",
              "        }\n",
              "      </script>\n",
              "    </div>\n",
              "  </div>\n",
              "  "
            ]
          },
          "metadata": {},
          "execution_count": 53
        }
      ]
    },
    {
      "cell_type": "markdown",
      "source": [
        "# Analizando Categorías, tendencias, medias y creando valor"
      ],
      "metadata": {
        "id": "WTxHFNE82qMd"
      }
    },
    {
      "cell_type": "markdown",
      "source": [
        "Su función será crear un \"deep dive\" que explorara 2 a 4 preguntas de negocios que pueda hacer con los datos: ¿Cuál es el mejor día de la semana de ventas? etc. Como mínimo su análisis debe incluir:\n",
        "\n",
        "- Comparar dos variables con al menos una segmentación por categoría\n",
        "- Analizar gráficamente multiples variables numéricas\n",
        "- Plot charts, Gráficos de tendencia y Barra con su análisis de que significa\n",
        "- Utilizar las ideas anteriores como sea necesario para cada pregunta de negocio.\n",
        "\n"
      ],
      "metadata": {
        "id": "Ghzcciw6jzdC"
      }
    },
    {
      "cell_type": "code",
      "source": [
        "SSTORE.Market.value_counts(normalize=True) * 100"
      ],
      "metadata": {
        "colab": {
          "base_uri": "https://localhost:8080/"
        },
        "id": "Ei5tTMGmO5kG",
        "outputId": "0ab4240b-5352-487b-ecf7-38eb24dbaa5b"
      },
      "execution_count": null,
      "outputs": [
        {
          "output_type": "execute_result",
          "data": {
            "text/plain": [
              "APAC      21.608187\n",
              "EU        20.341131\n",
              "LATAM     20.038986\n",
              "US        18.567251\n",
              "EMEA       9.502924\n",
              "Africa     9.249513\n",
              "Canada     0.692008\n",
              "Name: Market, dtype: float64"
            ]
          },
          "metadata": {},
          "execution_count": 54
        }
      ]
    },
    {
      "cell_type": "code",
      "source": [
        "SSTORE['Category'].value_counts()"
      ],
      "metadata": {
        "colab": {
          "base_uri": "https://localhost:8080/"
        },
        "id": "KkfKl5FV7nPU",
        "outputId": "b9b2c07f-b44f-489e-82af-fe367d7a9b64"
      },
      "execution_count": null,
      "outputs": [
        {
          "output_type": "execute_result",
          "data": {
            "text/plain": [
              "Office Supplies    6221\n",
              "Technology         2055\n",
              "Furniture          1984\n",
              "Name: Category, dtype: int64"
            ]
          },
          "metadata": {},
          "execution_count": 55
        }
      ]
    },
    {
      "cell_type": "code",
      "source": [
        "SSTORE['Sub-Category'].value_counts()"
      ],
      "metadata": {
        "colab": {
          "base_uri": "https://localhost:8080/"
        },
        "id": "9ArUFADoPFQy",
        "outputId": "e7ebf5f6-1583-4123-ce63-252c59114f19"
      },
      "execution_count": null,
      "outputs": [
        {
          "output_type": "execute_result",
          "data": {
            "text/plain": [
              "Binders        1240\n",
              "Storage        1022\n",
              "Art             939\n",
              "Paper           706\n",
              "Phones          683\n",
              "Chairs          680\n",
              "Furnishings     641\n",
              "Accessories     637\n",
              "Labels          526\n",
              "Bookcases       487\n",
              "Supplies        486\n",
              "Fasteners       483\n",
              "Envelopes       472\n",
              "Copiers         432\n",
              "Appliances      347\n",
              "Machines        303\n",
              "Tables          176\n",
              "Name: Sub-Category, dtype: int64"
            ]
          },
          "metadata": {},
          "execution_count": 56
        }
      ]
    },
    {
      "cell_type": "code",
      "source": [
        "pd.crosstab(SSTORE.Market, SSTORE['Sub-Category'])"
      ],
      "metadata": {
        "colab": {
          "base_uri": "https://localhost:8080/",
          "height": 361
        },
        "id": "kvEk3oYJRCB5",
        "outputId": "d552c66c-3ffa-4333-c5d8-4bd1c6e6248d"
      },
      "execution_count": null,
      "outputs": [
        {
          "output_type": "execute_result",
          "data": {
            "text/plain": [
              "Sub-Category  Accessories  Appliances  Art  Binders  Bookcases  Chairs  \\\n",
              "Market                                                                   \n",
              "APAC                  138          70  128      206        122     208   \n",
              "Africa                 46          28  130      130         43      24   \n",
              "Canada                  4           5   12       12          1       2   \n",
              "EMEA                   39          29  146      129         44      40   \n",
              "EU                    100          64  276      287         92      98   \n",
              "LATAM                 153          69  102      186        141     187   \n",
              "US                    157          82  145      290         44     121   \n",
              "\n",
              "Sub-Category  Copiers  Envelopes  Fasteners  Furnishings  Labels  Machines  \\\n",
              "Market                                                                       \n",
              "APAC              116        132        127          121     161        66   \n",
              "Africa             35         50         47           40      44        46   \n",
              "Canada              0          1          5            3       7         0   \n",
              "EMEA               38         41         52           60      38        45   \n",
              "EU                 97         74         89          111      86        97   \n",
              "LATAM             134        126        124          118     123        23   \n",
              "US                 12         48         39          188      67        26   \n",
              "\n",
              "Sub-Category  Paper  Phones  Storage  Supplies  Tables  \n",
              "Market                                                  \n",
              "APAC            128     145      165       135      49  \n",
              "Africa           53      51      127        47       8  \n",
              "Canada            3       6        8         2       0  \n",
              "EMEA             32      57      134        43       8  \n",
              "EU               95     129      276        95      21  \n",
              "LATAM           123     134      156       125      32  \n",
              "US              272     161      156        39      58  "
            ],
            "text/html": [
              "\n",
              "  <div id=\"df-933a3dc6-401b-48b6-8498-99c51532353d\">\n",
              "    <div class=\"colab-df-container\">\n",
              "      <div>\n",
              "<style scoped>\n",
              "    .dataframe tbody tr th:only-of-type {\n",
              "        vertical-align: middle;\n",
              "    }\n",
              "\n",
              "    .dataframe tbody tr th {\n",
              "        vertical-align: top;\n",
              "    }\n",
              "\n",
              "    .dataframe thead th {\n",
              "        text-align: right;\n",
              "    }\n",
              "</style>\n",
              "<table border=\"1\" class=\"dataframe\">\n",
              "  <thead>\n",
              "    <tr style=\"text-align: right;\">\n",
              "      <th>Sub-Category</th>\n",
              "      <th>Accessories</th>\n",
              "      <th>Appliances</th>\n",
              "      <th>Art</th>\n",
              "      <th>Binders</th>\n",
              "      <th>Bookcases</th>\n",
              "      <th>Chairs</th>\n",
              "      <th>Copiers</th>\n",
              "      <th>Envelopes</th>\n",
              "      <th>Fasteners</th>\n",
              "      <th>Furnishings</th>\n",
              "      <th>Labels</th>\n",
              "      <th>Machines</th>\n",
              "      <th>Paper</th>\n",
              "      <th>Phones</th>\n",
              "      <th>Storage</th>\n",
              "      <th>Supplies</th>\n",
              "      <th>Tables</th>\n",
              "    </tr>\n",
              "    <tr>\n",
              "      <th>Market</th>\n",
              "      <th></th>\n",
              "      <th></th>\n",
              "      <th></th>\n",
              "      <th></th>\n",
              "      <th></th>\n",
              "      <th></th>\n",
              "      <th></th>\n",
              "      <th></th>\n",
              "      <th></th>\n",
              "      <th></th>\n",
              "      <th></th>\n",
              "      <th></th>\n",
              "      <th></th>\n",
              "      <th></th>\n",
              "      <th></th>\n",
              "      <th></th>\n",
              "      <th></th>\n",
              "    </tr>\n",
              "  </thead>\n",
              "  <tbody>\n",
              "    <tr>\n",
              "      <th>APAC</th>\n",
              "      <td>138</td>\n",
              "      <td>70</td>\n",
              "      <td>128</td>\n",
              "      <td>206</td>\n",
              "      <td>122</td>\n",
              "      <td>208</td>\n",
              "      <td>116</td>\n",
              "      <td>132</td>\n",
              "      <td>127</td>\n",
              "      <td>121</td>\n",
              "      <td>161</td>\n",
              "      <td>66</td>\n",
              "      <td>128</td>\n",
              "      <td>145</td>\n",
              "      <td>165</td>\n",
              "      <td>135</td>\n",
              "      <td>49</td>\n",
              "    </tr>\n",
              "    <tr>\n",
              "      <th>Africa</th>\n",
              "      <td>46</td>\n",
              "      <td>28</td>\n",
              "      <td>130</td>\n",
              "      <td>130</td>\n",
              "      <td>43</td>\n",
              "      <td>24</td>\n",
              "      <td>35</td>\n",
              "      <td>50</td>\n",
              "      <td>47</td>\n",
              "      <td>40</td>\n",
              "      <td>44</td>\n",
              "      <td>46</td>\n",
              "      <td>53</td>\n",
              "      <td>51</td>\n",
              "      <td>127</td>\n",
              "      <td>47</td>\n",
              "      <td>8</td>\n",
              "    </tr>\n",
              "    <tr>\n",
              "      <th>Canada</th>\n",
              "      <td>4</td>\n",
              "      <td>5</td>\n",
              "      <td>12</td>\n",
              "      <td>12</td>\n",
              "      <td>1</td>\n",
              "      <td>2</td>\n",
              "      <td>0</td>\n",
              "      <td>1</td>\n",
              "      <td>5</td>\n",
              "      <td>3</td>\n",
              "      <td>7</td>\n",
              "      <td>0</td>\n",
              "      <td>3</td>\n",
              "      <td>6</td>\n",
              "      <td>8</td>\n",
              "      <td>2</td>\n",
              "      <td>0</td>\n",
              "    </tr>\n",
              "    <tr>\n",
              "      <th>EMEA</th>\n",
              "      <td>39</td>\n",
              "      <td>29</td>\n",
              "      <td>146</td>\n",
              "      <td>129</td>\n",
              "      <td>44</td>\n",
              "      <td>40</td>\n",
              "      <td>38</td>\n",
              "      <td>41</td>\n",
              "      <td>52</td>\n",
              "      <td>60</td>\n",
              "      <td>38</td>\n",
              "      <td>45</td>\n",
              "      <td>32</td>\n",
              "      <td>57</td>\n",
              "      <td>134</td>\n",
              "      <td>43</td>\n",
              "      <td>8</td>\n",
              "    </tr>\n",
              "    <tr>\n",
              "      <th>EU</th>\n",
              "      <td>100</td>\n",
              "      <td>64</td>\n",
              "      <td>276</td>\n",
              "      <td>287</td>\n",
              "      <td>92</td>\n",
              "      <td>98</td>\n",
              "      <td>97</td>\n",
              "      <td>74</td>\n",
              "      <td>89</td>\n",
              "      <td>111</td>\n",
              "      <td>86</td>\n",
              "      <td>97</td>\n",
              "      <td>95</td>\n",
              "      <td>129</td>\n",
              "      <td>276</td>\n",
              "      <td>95</td>\n",
              "      <td>21</td>\n",
              "    </tr>\n",
              "    <tr>\n",
              "      <th>LATAM</th>\n",
              "      <td>153</td>\n",
              "      <td>69</td>\n",
              "      <td>102</td>\n",
              "      <td>186</td>\n",
              "      <td>141</td>\n",
              "      <td>187</td>\n",
              "      <td>134</td>\n",
              "      <td>126</td>\n",
              "      <td>124</td>\n",
              "      <td>118</td>\n",
              "      <td>123</td>\n",
              "      <td>23</td>\n",
              "      <td>123</td>\n",
              "      <td>134</td>\n",
              "      <td>156</td>\n",
              "      <td>125</td>\n",
              "      <td>32</td>\n",
              "    </tr>\n",
              "    <tr>\n",
              "      <th>US</th>\n",
              "      <td>157</td>\n",
              "      <td>82</td>\n",
              "      <td>145</td>\n",
              "      <td>290</td>\n",
              "      <td>44</td>\n",
              "      <td>121</td>\n",
              "      <td>12</td>\n",
              "      <td>48</td>\n",
              "      <td>39</td>\n",
              "      <td>188</td>\n",
              "      <td>67</td>\n",
              "      <td>26</td>\n",
              "      <td>272</td>\n",
              "      <td>161</td>\n",
              "      <td>156</td>\n",
              "      <td>39</td>\n",
              "      <td>58</td>\n",
              "    </tr>\n",
              "  </tbody>\n",
              "</table>\n",
              "</div>\n",
              "      <button class=\"colab-df-convert\" onclick=\"convertToInteractive('df-933a3dc6-401b-48b6-8498-99c51532353d')\"\n",
              "              title=\"Convert this dataframe to an interactive table.\"\n",
              "              style=\"display:none;\">\n",
              "        \n",
              "  <svg xmlns=\"http://www.w3.org/2000/svg\" height=\"24px\"viewBox=\"0 0 24 24\"\n",
              "       width=\"24px\">\n",
              "    <path d=\"M0 0h24v24H0V0z\" fill=\"none\"/>\n",
              "    <path d=\"M18.56 5.44l.94 2.06.94-2.06 2.06-.94-2.06-.94-.94-2.06-.94 2.06-2.06.94zm-11 1L8.5 8.5l.94-2.06 2.06-.94-2.06-.94L8.5 2.5l-.94 2.06-2.06.94zm10 10l.94 2.06.94-2.06 2.06-.94-2.06-.94-.94-2.06-.94 2.06-2.06.94z\"/><path d=\"M17.41 7.96l-1.37-1.37c-.4-.4-.92-.59-1.43-.59-.52 0-1.04.2-1.43.59L10.3 9.45l-7.72 7.72c-.78.78-.78 2.05 0 2.83L4 21.41c.39.39.9.59 1.41.59.51 0 1.02-.2 1.41-.59l7.78-7.78 2.81-2.81c.8-.78.8-2.07 0-2.86zM5.41 20L4 18.59l7.72-7.72 1.47 1.35L5.41 20z\"/>\n",
              "  </svg>\n",
              "      </button>\n",
              "      \n",
              "  <style>\n",
              "    .colab-df-container {\n",
              "      display:flex;\n",
              "      flex-wrap:wrap;\n",
              "      gap: 12px;\n",
              "    }\n",
              "\n",
              "    .colab-df-convert {\n",
              "      background-color: #E8F0FE;\n",
              "      border: none;\n",
              "      border-radius: 50%;\n",
              "      cursor: pointer;\n",
              "      display: none;\n",
              "      fill: #1967D2;\n",
              "      height: 32px;\n",
              "      padding: 0 0 0 0;\n",
              "      width: 32px;\n",
              "    }\n",
              "\n",
              "    .colab-df-convert:hover {\n",
              "      background-color: #E2EBFA;\n",
              "      box-shadow: 0px 1px 2px rgba(60, 64, 67, 0.3), 0px 1px 3px 1px rgba(60, 64, 67, 0.15);\n",
              "      fill: #174EA6;\n",
              "    }\n",
              "\n",
              "    [theme=dark] .colab-df-convert {\n",
              "      background-color: #3B4455;\n",
              "      fill: #D2E3FC;\n",
              "    }\n",
              "\n",
              "    [theme=dark] .colab-df-convert:hover {\n",
              "      background-color: #434B5C;\n",
              "      box-shadow: 0px 1px 3px 1px rgba(0, 0, 0, 0.15);\n",
              "      filter: drop-shadow(0px 1px 2px rgba(0, 0, 0, 0.3));\n",
              "      fill: #FFFFFF;\n",
              "    }\n",
              "  </style>\n",
              "\n",
              "      <script>\n",
              "        const buttonEl =\n",
              "          document.querySelector('#df-933a3dc6-401b-48b6-8498-99c51532353d button.colab-df-convert');\n",
              "        buttonEl.style.display =\n",
              "          google.colab.kernel.accessAllowed ? 'block' : 'none';\n",
              "\n",
              "        async function convertToInteractive(key) {\n",
              "          const element = document.querySelector('#df-933a3dc6-401b-48b6-8498-99c51532353d');\n",
              "          const dataTable =\n",
              "            await google.colab.kernel.invokeFunction('convertToInteractive',\n",
              "                                                     [key], {});\n",
              "          if (!dataTable) return;\n",
              "\n",
              "          const docLinkHtml = 'Like what you see? Visit the ' +\n",
              "            '<a target=\"_blank\" href=https://colab.research.google.com/notebooks/data_table.ipynb>data table notebook</a>'\n",
              "            + ' to learn more about interactive tables.';\n",
              "          element.innerHTML = '';\n",
              "          dataTable['output_type'] = 'display_data';\n",
              "          await google.colab.output.renderOutput(dataTable, element);\n",
              "          const docLink = document.createElement('div');\n",
              "          docLink.innerHTML = docLinkHtml;\n",
              "          element.appendChild(docLink);\n",
              "        }\n",
              "      </script>\n",
              "    </div>\n",
              "  </div>\n",
              "  "
            ]
          },
          "metadata": {},
          "execution_count": 57
        }
      ]
    },
    {
      "cell_type": "code",
      "source": [
        "SSTORE.corr()"
      ],
      "metadata": {
        "colab": {
          "base_uri": "https://localhost:8080/",
          "height": 206
        },
        "id": "3kNzTuPrp41p",
        "outputId": "db87167e-43cd-47e0-af6d-b34b88e9986e"
      },
      "execution_count": null,
      "outputs": [
        {
          "output_type": "execute_result",
          "data": {
            "text/plain": [
              "                  Sales  Quantity  Discount    Profit  Shipping Cost\n",
              "Sales          1.000000  0.295868 -0.078181  0.449103       0.746672\n",
              "Quantity       0.295868  1.000000 -0.018666  0.106641       0.278278\n",
              "Discount      -0.078181 -0.018666  1.000000 -0.309973      -0.081511\n",
              "Profit         0.449103  0.106641 -0.309973  1.000000       0.421342\n",
              "Shipping Cost  0.746672  0.278278 -0.081511  0.421342       1.000000"
            ],
            "text/html": [
              "\n",
              "  <div id=\"df-aaa60d6d-05be-4f5f-841b-c3bdbafa61e6\">\n",
              "    <div class=\"colab-df-container\">\n",
              "      <div>\n",
              "<style scoped>\n",
              "    .dataframe tbody tr th:only-of-type {\n",
              "        vertical-align: middle;\n",
              "    }\n",
              "\n",
              "    .dataframe tbody tr th {\n",
              "        vertical-align: top;\n",
              "    }\n",
              "\n",
              "    .dataframe thead th {\n",
              "        text-align: right;\n",
              "    }\n",
              "</style>\n",
              "<table border=\"1\" class=\"dataframe\">\n",
              "  <thead>\n",
              "    <tr style=\"text-align: right;\">\n",
              "      <th></th>\n",
              "      <th>Sales</th>\n",
              "      <th>Quantity</th>\n",
              "      <th>Discount</th>\n",
              "      <th>Profit</th>\n",
              "      <th>Shipping Cost</th>\n",
              "    </tr>\n",
              "  </thead>\n",
              "  <tbody>\n",
              "    <tr>\n",
              "      <th>Sales</th>\n",
              "      <td>1.000000</td>\n",
              "      <td>0.295868</td>\n",
              "      <td>-0.078181</td>\n",
              "      <td>0.449103</td>\n",
              "      <td>0.746672</td>\n",
              "    </tr>\n",
              "    <tr>\n",
              "      <th>Quantity</th>\n",
              "      <td>0.295868</td>\n",
              "      <td>1.000000</td>\n",
              "      <td>-0.018666</td>\n",
              "      <td>0.106641</td>\n",
              "      <td>0.278278</td>\n",
              "    </tr>\n",
              "    <tr>\n",
              "      <th>Discount</th>\n",
              "      <td>-0.078181</td>\n",
              "      <td>-0.018666</td>\n",
              "      <td>1.000000</td>\n",
              "      <td>-0.309973</td>\n",
              "      <td>-0.081511</td>\n",
              "    </tr>\n",
              "    <tr>\n",
              "      <th>Profit</th>\n",
              "      <td>0.449103</td>\n",
              "      <td>0.106641</td>\n",
              "      <td>-0.309973</td>\n",
              "      <td>1.000000</td>\n",
              "      <td>0.421342</td>\n",
              "    </tr>\n",
              "    <tr>\n",
              "      <th>Shipping Cost</th>\n",
              "      <td>0.746672</td>\n",
              "      <td>0.278278</td>\n",
              "      <td>-0.081511</td>\n",
              "      <td>0.421342</td>\n",
              "      <td>1.000000</td>\n",
              "    </tr>\n",
              "  </tbody>\n",
              "</table>\n",
              "</div>\n",
              "      <button class=\"colab-df-convert\" onclick=\"convertToInteractive('df-aaa60d6d-05be-4f5f-841b-c3bdbafa61e6')\"\n",
              "              title=\"Convert this dataframe to an interactive table.\"\n",
              "              style=\"display:none;\">\n",
              "        \n",
              "  <svg xmlns=\"http://www.w3.org/2000/svg\" height=\"24px\"viewBox=\"0 0 24 24\"\n",
              "       width=\"24px\">\n",
              "    <path d=\"M0 0h24v24H0V0z\" fill=\"none\"/>\n",
              "    <path d=\"M18.56 5.44l.94 2.06.94-2.06 2.06-.94-2.06-.94-.94-2.06-.94 2.06-2.06.94zm-11 1L8.5 8.5l.94-2.06 2.06-.94-2.06-.94L8.5 2.5l-.94 2.06-2.06.94zm10 10l.94 2.06.94-2.06 2.06-.94-2.06-.94-.94-2.06-.94 2.06-2.06.94z\"/><path d=\"M17.41 7.96l-1.37-1.37c-.4-.4-.92-.59-1.43-.59-.52 0-1.04.2-1.43.59L10.3 9.45l-7.72 7.72c-.78.78-.78 2.05 0 2.83L4 21.41c.39.39.9.59 1.41.59.51 0 1.02-.2 1.41-.59l7.78-7.78 2.81-2.81c.8-.78.8-2.07 0-2.86zM5.41 20L4 18.59l7.72-7.72 1.47 1.35L5.41 20z\"/>\n",
              "  </svg>\n",
              "      </button>\n",
              "      \n",
              "  <style>\n",
              "    .colab-df-container {\n",
              "      display:flex;\n",
              "      flex-wrap:wrap;\n",
              "      gap: 12px;\n",
              "    }\n",
              "\n",
              "    .colab-df-convert {\n",
              "      background-color: #E8F0FE;\n",
              "      border: none;\n",
              "      border-radius: 50%;\n",
              "      cursor: pointer;\n",
              "      display: none;\n",
              "      fill: #1967D2;\n",
              "      height: 32px;\n",
              "      padding: 0 0 0 0;\n",
              "      width: 32px;\n",
              "    }\n",
              "\n",
              "    .colab-df-convert:hover {\n",
              "      background-color: #E2EBFA;\n",
              "      box-shadow: 0px 1px 2px rgba(60, 64, 67, 0.3), 0px 1px 3px 1px rgba(60, 64, 67, 0.15);\n",
              "      fill: #174EA6;\n",
              "    }\n",
              "\n",
              "    [theme=dark] .colab-df-convert {\n",
              "      background-color: #3B4455;\n",
              "      fill: #D2E3FC;\n",
              "    }\n",
              "\n",
              "    [theme=dark] .colab-df-convert:hover {\n",
              "      background-color: #434B5C;\n",
              "      box-shadow: 0px 1px 3px 1px rgba(0, 0, 0, 0.15);\n",
              "      filter: drop-shadow(0px 1px 2px rgba(0, 0, 0, 0.3));\n",
              "      fill: #FFFFFF;\n",
              "    }\n",
              "  </style>\n",
              "\n",
              "      <script>\n",
              "        const buttonEl =\n",
              "          document.querySelector('#df-aaa60d6d-05be-4f5f-841b-c3bdbafa61e6 button.colab-df-convert');\n",
              "        buttonEl.style.display =\n",
              "          google.colab.kernel.accessAllowed ? 'block' : 'none';\n",
              "\n",
              "        async function convertToInteractive(key) {\n",
              "          const element = document.querySelector('#df-aaa60d6d-05be-4f5f-841b-c3bdbafa61e6');\n",
              "          const dataTable =\n",
              "            await google.colab.kernel.invokeFunction('convertToInteractive',\n",
              "                                                     [key], {});\n",
              "          if (!dataTable) return;\n",
              "\n",
              "          const docLinkHtml = 'Like what you see? Visit the ' +\n",
              "            '<a target=\"_blank\" href=https://colab.research.google.com/notebooks/data_table.ipynb>data table notebook</a>'\n",
              "            + ' to learn more about interactive tables.';\n",
              "          element.innerHTML = '';\n",
              "          dataTable['output_type'] = 'display_data';\n",
              "          await google.colab.output.renderOutput(dataTable, element);\n",
              "          const docLink = document.createElement('div');\n",
              "          docLink.innerHTML = docLinkHtml;\n",
              "          element.appendChild(docLink);\n",
              "        }\n",
              "      </script>\n",
              "    </div>\n",
              "  </div>\n",
              "  "
            ]
          },
          "metadata": {},
          "execution_count": 58
        }
      ]
    },
    {
      "cell_type": "code",
      "source": [
        "corrmat = SSTORE.corr()\n",
        "sns.heatmap(corrmat, vmax=1, square=True); "
      ],
      "metadata": {
        "colab": {
          "base_uri": "https://localhost:8080/",
          "height": 435
        },
        "id": "VKZWDZ-tqhvk",
        "outputId": "5015101f-73f3-413b-b19c-1fb65e411622"
      },
      "execution_count": null,
      "outputs": [
        {
          "output_type": "display_data",
          "data": {
            "text/plain": [
              "<Figure size 640x480 with 2 Axes>"
            ],
            "image/png": "[encoded data removed]"
          },
          "metadata": {}
        }
      ]
    },
    {
      "cell_type": "code",
      "source": [
        "fig, x = plt.subplots()\n",
        "sns.distplot(SSTORE.Discount * 100, ax=x)\n",
        "x.set_xlim(0, 100)\n",
        "plt.show()"
      ],
      "metadata": {
        "colab": {
          "base_uri": "https://localhost:8080/",
          "height": 652
        },
        "id": "tkivOoYrs0xj",
        "outputId": "7d07387b-150e-41b7-89a9-eb5f292c9664"
      },
      "execution_count": null,
      "outputs": [
        {
          "output_type": "stream",
          "name": "stderr",
          "text": [
            "<ipython-input-60-1b18fe760a1b>:2: UserWarning: \n",
            "\n",
            "`distplot` is a deprecated function and will be removed in seaborn v0.14.0.\n",
            "\n",
            "Please adapt your code to use either `displot` (a figure-level function with\n",
            "similar flexibility) or `histplot` (an axes-level function for histograms).\n",
            "\n",
            "For a guide to updating your code to use the new functions, please see\n",
            "https://gist.github.com/mwaskom/de44147ed2974457ad6372750bbe5751\n",
            "\n",
            "  sns.distplot(SSTORE.Discount * 100, ax=x)\n"
          ]
        },
        {
          "output_type": "display_data",
          "data": {
            "text/plain": [
              "<Figure size 640x480 with 1 Axes>"
            ],
            "image/png": "[encoded data removed]"
          },
          "metadata": {}
        }
      ]
    },
    {
      "cell_type": "code",
      "source": [
        "fig, x = plt.subplots()\n",
        "sns.distplot(SSTORE.Profit, ax=x)\n",
        "plt.show()"
      ],
      "metadata": {
        "colab": {
          "base_uri": "https://localhost:8080/",
          "height": 652
        },
        "id": "VBY9hRSBuM7m",
        "outputId": "33249d94-11e3-4369-bca6-aae51b31e1b4"
      },
      "execution_count": null,
      "outputs": [
        {
          "output_type": "stream",
          "name": "stderr",
          "text": [
            "<ipython-input-61-02afbc775122>:2: UserWarning: \n",
            "\n",
            "`distplot` is a deprecated function and will be removed in seaborn v0.14.0.\n",
            "\n",
            "Please adapt your code to use either `displot` (a figure-level function with\n",
            "similar flexibility) or `histplot` (an axes-level function for histograms).\n",
            "\n",
            "For a guide to updating your code to use the new functions, please see\n",
            "https://gist.github.com/mwaskom/de44147ed2974457ad6372750bbe5751\n",
            "\n",
            "  sns.distplot(SSTORE.Profit, ax=x)\n"
          ]
        },
        {
          "output_type": "display_data",
          "data": {
            "text/plain": [
              "<Figure size 640x480 with 1 Axes>"
            ],
            "image/png": "[encoded data removed]"
          },
          "metadata": {}
        }
      ]
    },
    {
      "cell_type": "code",
      "source": [
        "sns.countplot(y=SSTORE.Market, order=SSTORE.Market.value_counts(ascending=True).index)"
      ],
      "metadata": {
        "colab": {
          "base_uri": "https://localhost:8080/",
          "height": 467
        },
        "id": "jUUD8yL-58UM",
        "outputId": "dd0b5177-2c4e-4d20-ab34-604608ef495b"
      },
      "execution_count": null,
      "outputs": [
        {
          "output_type": "execute_result",
          "data": {
            "text/plain": [
              "<Axes: xlabel='count', ylabel='Market'>"
            ]
          },
          "metadata": {},
          "execution_count": 62
        },
        {
          "output_type": "display_data",
          "data": {
            "text/plain": [
              "<Figure size 640x480 with 1 Axes>"
            ],
            "image/png": "[encoded data removed]"
          },
          "metadata": {}
        }
      ]
    },
    {
      "cell_type": "code",
      "source": [
        "sns.scatterplot(x=SSTORE.Sales, y=SSTORE.Profit, hue=SSTORE['Category'])"
      ],
      "metadata": {
        "colab": {
          "base_uri": "https://localhost:8080/",
          "height": 467
        },
        "id": "dKJaGQ496hMk",
        "outputId": "04ca1bc2-12e7-41f4-dd0e-b842e8b80016"
      },
      "execution_count": null,
      "outputs": [
        {
          "output_type": "execute_result",
          "data": {
            "text/plain": [
              "<Axes: xlabel='Sales', ylabel='Profit'>"
            ]
          },
          "metadata": {},
          "execution_count": 63
        },
        {
          "output_type": "display_data",
          "data": {
            "text/plain": [
              "<Figure size 640x480 with 1 Axes>"
            ],
            "image/png": "[encoded data removed]"
          },
          "metadata": {}
        }
      ]
    },
    {
      "cell_type": "code",
      "source": [
        "SSTORE.groupby(SSTORE['Order Date']).count().sort_values(['Sales'],ascending=False)"
      ],
      "metadata": {
        "colab": {
          "base_uri": "https://localhost:8080/",
          "height": 900
        },
        "id": "xzMff6_H_N9C",
        "outputId": "8b34de7c-2eb7-4427-bb7a-148636ea6371"
      },
      "execution_count": null,
      "outputs": [
        {
          "output_type": "execute_result",
          "data": {
            "text/plain": [
              "            Order ID  Ship Date  Ship Mode  Customer ID  Customer Name  \\\n",
              "Order Date                                                               \n",
              "18-06-2014       135        135        135          135            135   \n",
              "18-11-2014       127        127        127          127            127   \n",
              "13-11-2014       114        114        114          114            114   \n",
              "13-11-2012       106        106        106          106            106   \n",
              "13-06-2013       102        102        102          102            102   \n",
              "...              ...        ...        ...          ...            ...   \n",
              "17-03-2013         1          1          1            1              1   \n",
              "15-07-2012         1          1          1            1              1   \n",
              "16-01-2011         1          1          1            1              1   \n",
              "19-06-2011         1          1          1            1              1   \n",
              "15-05-2011         1          1          1            1              1   \n",
              "\n",
              "            Segment  City  State  Country  Market  ...  Product ID  Category  \\\n",
              "Order Date                                         ...                         \n",
              "18-06-2014      135   135    135      135     135  ...         135       135   \n",
              "18-11-2014      127   127    127      127     127  ...         127       127   \n",
              "13-11-2014      114   114    114      114     114  ...         114       114   \n",
              "13-11-2012      106   106    106      106     106  ...         106       106   \n",
              "13-06-2013      102   102    102      102     102  ...         102       102   \n",
              "...             ...   ...    ...      ...     ...  ...         ...       ...   \n",
              "17-03-2013        1     1      1        1       1  ...           1         1   \n",
              "15-07-2012        1     1      1        1       1  ...           1         1   \n",
              "16-01-2011        1     1      1        1       1  ...           1         1   \n",
              "19-06-2011        1     1      1        1       1  ...           1         1   \n",
              "15-05-2011        1     1      1        1       1  ...           1         1   \n",
              "\n",
              "            Sub-Category  Product Name  Sales  Quantity  Discount  Profit  \\\n",
              "Order Date                                                                  \n",
              "18-06-2014           135           135    135       135       135     135   \n",
              "18-11-2014           127           127    127       127       127     127   \n",
              "13-11-2014           114           114    114       114       114     114   \n",
              "13-11-2012           106           106    106       106       106     106   \n",
              "13-06-2013           102           102    102       102       102     102   \n",
              "...                  ...           ...    ...       ...       ...     ...   \n",
              "17-03-2013             1             1      1         1         1       1   \n",
              "15-07-2012             1             1      1         1         1       1   \n",
              "16-01-2011             1             1      1         1         1       1   \n",
              "19-06-2011             1             1      1         1         1       1   \n",
              "15-05-2011             1             1      1         1         1       1   \n",
              "\n",
              "            Shipping Cost  Order Priority  \n",
              "Order Date                                 \n",
              "18-06-2014            135             135  \n",
              "18-11-2014            127             127  \n",
              "13-11-2014            114             114  \n",
              "13-11-2012            106             106  \n",
              "13-06-2013            102             102  \n",
              "...                   ...             ...  \n",
              "17-03-2013              1               1  \n",
              "15-07-2012              1               1  \n",
              "16-01-2011              1               1  \n",
              "19-06-2011              1               1  \n",
              "15-05-2011              1               1  \n",
              "\n",
              "[285 rows x 21 columns]"
            ],
            "text/html": [
              "\n",
              "  <div id=\"df-36f7b6c8-7a77-4f92-8ea4-a8e7f1b977d3\">\n",
              "    <div class=\"colab-df-container\">\n",
              "      <div>\n",
              "<style scoped>\n",
              "    .dataframe tbody tr th:only-of-type {\n",
              "        vertical-align: middle;\n",
              "    }\n",
              "\n",
              "    .dataframe tbody tr th {\n",
              "        vertical-align: top;\n",
              "    }\n",
              "\n",
              "    .dataframe thead th {\n",
              "        text-align: right;\n",
              "    }\n",
              "</style>\n",
              "<table border=\"1\" class=\"dataframe\">\n",
              "  <thead>\n",
              "    <tr style=\"text-align: right;\">\n",
              "      <th></th>\n",
              "      <th>Order ID</th>\n",
              "      <th>Ship Date</th>\n",
              "      <th>Ship Mode</th>\n",
              "      <th>Customer ID</th>\n",
              "      <th>Customer Name</th>\n",
              "      <th>Segment</th>\n",
              "      <th>City</th>\n",
              "      <th>State</th>\n",
              "      <th>Country</th>\n",
              "      <th>Market</th>\n",
              "      <th>...</th>\n",
              "      <th>Product ID</th>\n",
              "      <th>Category</th>\n",
              "      <th>Sub-Category</th>\n",
              "      <th>Product Name</th>\n",
              "      <th>Sales</th>\n",
              "      <th>Quantity</th>\n",
              "      <th>Discount</th>\n",
              "      <th>Profit</th>\n",
              "      <th>Shipping Cost</th>\n",
              "      <th>Order Priority</th>\n",
              "    </tr>\n",
              "    <tr>\n",
              "      <th>Order Date</th>\n",
              "      <th></th>\n",
              "      <th></th>\n",
              "      <th></th>\n",
              "      <th></th>\n",
              "      <th></th>\n",
              "      <th></th>\n",
              "      <th></th>\n",
              "      <th></th>\n",
              "      <th></th>\n",
              "      <th></th>\n",
              "      <th></th>\n",
              "      <th></th>\n",
              "      <th></th>\n",
              "      <th></th>\n",
              "      <th></th>\n",
              "      <th></th>\n",
              "      <th></th>\n",
              "      <th></th>\n",
              "      <th></th>\n",
              "      <th></th>\n",
              "      <th></th>\n",
              "    </tr>\n",
              "  </thead>\n",
              "  <tbody>\n",
              "    <tr>\n",
              "      <th>18-06-2014</th>\n",
              "      <td>135</td>\n",
              "      <td>135</td>\n",
              "      <td>135</td>\n",
              "      <td>135</td>\n",
              "      <td>135</td>\n",
              "      <td>135</td>\n",
              "      <td>135</td>\n",
              "      <td>135</td>\n",
              "      <td>135</td>\n",
              "      <td>135</td>\n",
              "      <td>...</td>\n",
              "      <td>135</td>\n",
              "      <td>135</td>\n",
              "      <td>135</td>\n",
              "      <td>135</td>\n",
              "      <td>135</td>\n",
              "      <td>135</td>\n",
              "      <td>135</td>\n",
              "      <td>135</td>\n",
              "      <td>135</td>\n",
              "      <td>135</td>\n",
              "    </tr>\n",
              "    <tr>\n",
              "      <th>18-11-2014</th>\n",
              "      <td>127</td>\n",
              "      <td>127</td>\n",
              "      <td>127</td>\n",
              "      <td>127</td>\n",
              "      <td>127</td>\n",
              "      <td>127</td>\n",
              "      <td>127</td>\n",
              "      <td>127</td>\n",
              "      <td>127</td>\n",
              "      <td>127</td>\n",
              "      <td>...</td>\n",
              "      <td>127</td>\n",
              "      <td>127</td>\n",
              "      <td>127</td>\n",
              "      <td>127</td>\n",
              "      <td>127</td>\n",
              "      <td>127</td>\n",
              "      <td>127</td>\n",
              "      <td>127</td>\n",
              "      <td>127</td>\n",
              "      <td>127</td>\n",
              "    </tr>\n",
              "    <tr>\n",
              "      <th>13-11-2014</th>\n",
              "      <td>114</td>\n",
              "      <td>114</td>\n",
              "      <td>114</td>\n",
              "      <td>114</td>\n",
              "      <td>114</td>\n",
              "      <td>114</td>\n",
              "      <td>114</td>\n",
              "      <td>114</td>\n",
              "      <td>114</td>\n",
              "      <td>114</td>\n",
              "      <td>...</td>\n",
              "      <td>114</td>\n",
              "      <td>114</td>\n",
              "      <td>114</td>\n",
              "      <td>114</td>\n",
              "      <td>114</td>\n",
              "      <td>114</td>\n",
              "      <td>114</td>\n",
              "      <td>114</td>\n",
              "      <td>114</td>\n",
              "      <td>114</td>\n",
              "    </tr>\n",
              "    <tr>\n",
              "      <th>13-11-2012</th>\n",
              "      <td>106</td>\n",
              "      <td>106</td>\n",
              "      <td>106</td>\n",
              "      <td>106</td>\n",
              "      <td>106</td>\n",
              "      <td>106</td>\n",
              "      <td>106</td>\n",
              "      <td>106</td>\n",
              "      <td>106</td>\n",
              "      <td>106</td>\n",
              "      <td>...</td>\n",
              "      <td>106</td>\n",
              "      <td>106</td>\n",
              "      <td>106</td>\n",
              "      <td>106</td>\n",
              "      <td>106</td>\n",
              "      <td>106</td>\n",
              "      <td>106</td>\n",
              "      <td>106</td>\n",
              "      <td>106</td>\n",
              "      <td>106</td>\n",
              "    </tr>\n",
              "    <tr>\n",
              "      <th>13-06-2013</th>\n",
              "      <td>102</td>\n",
              "      <td>102</td>\n",
              "      <td>102</td>\n",
              "      <td>102</td>\n",
              "      <td>102</td>\n",
              "      <td>102</td>\n",
              "      <td>102</td>\n",
              "      <td>102</td>\n",
              "      <td>102</td>\n",
              "      <td>102</td>\n",
              "      <td>...</td>\n",
              "      <td>102</td>\n",
              "      <td>102</td>\n",
              "      <td>102</td>\n",
              "      <td>102</td>\n",
              "      <td>102</td>\n",
              "      <td>102</td>\n",
              "      <td>102</td>\n",
              "      <td>102</td>\n",
              "      <td>102</td>\n",
              "      <td>102</td>\n",
              "    </tr>\n",
              "    <tr>\n",
              "      <th>...</th>\n",
              "      <td>...</td>\n",
              "      <td>...</td>\n",
              "      <td>...</td>\n",
              "      <td>...</td>\n",
              "      <td>...</td>\n",
              "      <td>...</td>\n",
              "      <td>...</td>\n",
              "      <td>...</td>\n",
              "      <td>...</td>\n",
              "      <td>...</td>\n",
              "      <td>...</td>\n",
              "      <td>...</td>\n",
              "      <td>...</td>\n",
              "      <td>...</td>\n",
              "      <td>...</td>\n",
              "      <td>...</td>\n",
              "      <td>...</td>\n",
              "      <td>...</td>\n",
              "      <td>...</td>\n",
              "      <td>...</td>\n",
              "      <td>...</td>\n",
              "    </tr>\n",
              "    <tr>\n",
              "      <th>17-03-2013</th>\n",
              "      <td>1</td>\n",
              "      <td>1</td>\n",
              "      <td>1</td>\n",
              "      <td>1</td>\n",
              "      <td>1</td>\n",
              "      <td>1</td>\n",
              "      <td>1</td>\n",
              "      <td>1</td>\n",
              "      <td>1</td>\n",
              "      <td>1</td>\n",
              "      <td>...</td>\n",
              "      <td>1</td>\n",
              "      <td>1</td>\n",
              "      <td>1</td>\n",
              "      <td>1</td>\n",
              "      <td>1</td>\n",
              "      <td>1</td>\n",
              "      <td>1</td>\n",
              "      <td>1</td>\n",
              "      <td>1</td>\n",
              "      <td>1</td>\n",
              "    </tr>\n",
              "    <tr>\n",
              "      <th>15-07-2012</th>\n",
              "      <td>1</td>\n",
              "      <td>1</td>\n",
              "      <td>1</td>\n",
              "      <td>1</td>\n",
              "      <td>1</td>\n",
              "      <td>1</td>\n",
              "      <td>1</td>\n",
              "      <td>1</td>\n",
              "      <td>1</td>\n",
              "      <td>1</td>\n",
              "      <td>...</td>\n",
              "      <td>1</td>\n",
              "      <td>1</td>\n",
              "      <td>1</td>\n",
              "      <td>1</td>\n",
              "      <td>1</td>\n",
              "      <td>1</td>\n",
              "      <td>1</td>\n",
              "      <td>1</td>\n",
              "      <td>1</td>\n",
              "      <td>1</td>\n",
              "    </tr>\n",
              "    <tr>\n",
              "      <th>16-01-2011</th>\n",
              "      <td>1</td>\n",
              "      <td>1</td>\n",
              "      <td>1</td>\n",
              "      <td>1</td>\n",
              "      <td>1</td>\n",
              "      <td>1</td>\n",
              "      <td>1</td>\n",
              "      <td>1</td>\n",
              "      <td>1</td>\n",
              "      <td>1</td>\n",
              "      <td>...</td>\n",
              "      <td>1</td>\n",
              "      <td>1</td>\n",
              "      <td>1</td>\n",
              "      <td>1</td>\n",
              "      <td>1</td>\n",
              "      <td>1</td>\n",
              "      <td>1</td>\n",
              "      <td>1</td>\n",
              "      <td>1</td>\n",
              "      <td>1</td>\n",
              "    </tr>\n",
              "    <tr>\n",
              "      <th>19-06-2011</th>\n",
              "      <td>1</td>\n",
              "      <td>1</td>\n",
              "      <td>1</td>\n",
              "      <td>1</td>\n",
              "      <td>1</td>\n",
              "      <td>1</td>\n",
              "      <td>1</td>\n",
              "      <td>1</td>\n",
              "      <td>1</td>\n",
              "      <td>1</td>\n",
              "      <td>...</td>\n",
              "      <td>1</td>\n",
              "      <td>1</td>\n",
              "      <td>1</td>\n",
              "      <td>1</td>\n",
              "      <td>1</td>\n",
              "      <td>1</td>\n",
              "      <td>1</td>\n",
              "      <td>1</td>\n",
              "      <td>1</td>\n",
              "      <td>1</td>\n",
              "    </tr>\n",
              "    <tr>\n",
              "      <th>15-05-2011</th>\n",
              "      <td>1</td>\n",
              "      <td>1</td>\n",
              "      <td>1</td>\n",
              "      <td>1</td>\n",
              "      <td>1</td>\n",
              "      <td>1</td>\n",
              "      <td>1</td>\n",
              "      <td>1</td>\n",
              "      <td>1</td>\n",
              "      <td>1</td>\n",
              "      <td>...</td>\n",
              "      <td>1</td>\n",
              "      <td>1</td>\n",
              "      <td>1</td>\n",
              "      <td>1</td>\n",
              "      <td>1</td>\n",
              "      <td>1</td>\n",
              "      <td>1</td>\n",
              "      <td>1</td>\n",
              "      <td>1</td>\n",
              "      <td>1</td>\n",
              "    </tr>\n",
              "  </tbody>\n",
              "</table>\n",
              "<p>285 rows × 21 columns</p>\n",
              "</div>\n",
              "      <button class=\"colab-df-convert\" onclick=\"convertToInteractive('df-36f7b6c8-7a77-4f92-8ea4-a8e7f1b977d3')\"\n",
              "              title=\"Convert this dataframe to an interactive table.\"\n",
              "              style=\"display:none;\">\n",
              "        \n",
              "  <svg xmlns=\"http://www.w3.org/2000/svg\" height=\"24px\"viewBox=\"0 0 24 24\"\n",
              "       width=\"24px\">\n",
              "    <path d=\"M0 0h24v24H0V0z\" fill=\"none\"/>\n",
              "    <path d=\"M18.56 5.44l.94 2.06.94-2.06 2.06-.94-2.06-.94-.94-2.06-.94 2.06-2.06.94zm-11 1L8.5 8.5l.94-2.06 2.06-.94-2.06-.94L8.5 2.5l-.94 2.06-2.06.94zm10 10l.94 2.06.94-2.06 2.06-.94-2.06-.94-.94-2.06-.94 2.06-2.06.94z\"/><path d=\"M17.41 7.96l-1.37-1.37c-.4-.4-.92-.59-1.43-.59-.52 0-1.04.2-1.43.59L10.3 9.45l-7.72 7.72c-.78.78-.78 2.05 0 2.83L4 21.41c.39.39.9.59 1.41.59.51 0 1.02-.2 1.41-.59l7.78-7.78 2.81-2.81c.8-.78.8-2.07 0-2.86zM5.41 20L4 18.59l7.72-7.72 1.47 1.35L5.41 20z\"/>\n",
              "  </svg>\n",
              "      </button>\n",
              "      \n",
              "  <style>\n",
              "    .colab-df-container {\n",
              "      display:flex;\n",
              "      flex-wrap:wrap;\n",
              "      gap: 12px;\n",
              "    }\n",
              "\n",
              "    .colab-df-convert {\n",
              "      background-color: #E8F0FE;\n",
              "      border: none;\n",
              "      border-radius: 50%;\n",
              "      cursor: pointer;\n",
              "      display: none;\n",
              "      fill: #1967D2;\n",
              "      height: 32px;\n",
              "      padding: 0 0 0 0;\n",
              "      width: 32px;\n",
              "    }\n",
              "\n",
              "    .colab-df-convert:hover {\n",
              "      background-color: #E2EBFA;\n",
              "      box-shadow: 0px 1px 2px rgba(60, 64, 67, 0.3), 0px 1px 3px 1px rgba(60, 64, 67, 0.15);\n",
              "      fill: #174EA6;\n",
              "    }\n",
              "\n",
              "    [theme=dark] .colab-df-convert {\n",
              "      background-color: #3B4455;\n",
              "      fill: #D2E3FC;\n",
              "    }\n",
              "\n",
              "    [theme=dark] .colab-df-convert:hover {\n",
              "      background-color: #434B5C;\n",
              "      box-shadow: 0px 1px 3px 1px rgba(0, 0, 0, 0.15);\n",
              "      filter: drop-shadow(0px 1px 2px rgba(0, 0, 0, 0.3));\n",
              "      fill: #FFFFFF;\n",
              "    }\n",
              "  </style>\n",
              "\n",
              "      <script>\n",
              "        const buttonEl =\n",
              "          document.querySelector('#df-36f7b6c8-7a77-4f92-8ea4-a8e7f1b977d3 button.colab-df-convert');\n",
              "        buttonEl.style.display =\n",
              "          google.colab.kernel.accessAllowed ? 'block' : 'none';\n",
              "\n",
              "        async function convertToInteractive(key) {\n",
              "          const element = document.querySelector('#df-36f7b6c8-7a77-4f92-8ea4-a8e7f1b977d3');\n",
              "          const dataTable =\n",
              "            await google.colab.kernel.invokeFunction('convertToInteractive',\n",
              "                                                     [key], {});\n",
              "          if (!dataTable) return;\n",
              "\n",
              "          const docLinkHtml = 'Like what you see? Visit the ' +\n",
              "            '<a target=\"_blank\" href=https://colab.research.google.com/notebooks/data_table.ipynb>data table notebook</a>'\n",
              "            + ' to learn more about interactive tables.';\n",
              "          element.innerHTML = '';\n",
              "          dataTable['output_type'] = 'display_data';\n",
              "          await google.colab.output.renderOutput(dataTable, element);\n",
              "          const docLink = document.createElement('div');\n",
              "          docLink.innerHTML = docLinkHtml;\n",
              "          element.appendChild(docLink);\n",
              "        }\n",
              "      </script>\n",
              "    </div>\n",
              "  </div>\n",
              "  "
            ]
          },
          "metadata": {},
          "execution_count": 69
        }
      ]
    },
    {
      "cell_type": "markdown",
      "source": [
        "# Conclusiones"
      ],
      "metadata": {
        "id": "7RTDtHLcp7Et"
      }
    },
    {
      "cell_type": "markdown",
      "source": [
        "El continente que mas genera ventas es APAC, el dia que mas ordenes recivio fue 18/06/2014, que no tiene mucho descuentas y asi como ha tenido ganacias a tenido perdidas"
      ],
      "metadata": {
        "id": "jStavX0RDeXF"
      }
    }
  ]
}